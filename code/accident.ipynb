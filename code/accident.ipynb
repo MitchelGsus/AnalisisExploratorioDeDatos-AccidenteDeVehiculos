{
 "cells": [
  {
   "cell_type": "code",
   "execution_count": 2,
   "metadata": {},
   "outputs": [],
   "source": [
    "import pandas as pd"
   ]
  },
  {
   "cell_type": "code",
   "execution_count": 3,
   "metadata": {},
   "outputs": [],
   "source": [
    "df_accident = pd.read_csv('../ingles/accident.csv')"
   ]
  },
  {
   "cell_type": "code",
   "execution_count": 4,
   "metadata": {},
   "outputs": [
    {
     "data": {
      "text/html": [
       "<div>\n",
       "<style scoped>\n",
       "    .dataframe tbody tr th:only-of-type {\n",
       "        vertical-align: middle;\n",
       "    }\n",
       "\n",
       "    .dataframe tbody tr th {\n",
       "        vertical-align: top;\n",
       "    }\n",
       "\n",
       "    .dataframe thead th {\n",
       "        text-align: right;\n",
       "    }\n",
       "</style>\n",
       "<table border=\"1\" class=\"dataframe\">\n",
       "  <thead>\n",
       "    <tr style=\"text-align: right;\">\n",
       "      <th></th>\n",
       "      <th>AccidentIndex</th>\n",
       "      <th>Severity</th>\n",
       "      <th>Date</th>\n",
       "      <th>Day</th>\n",
       "      <th>SpeedLimit</th>\n",
       "      <th>LightConditions</th>\n",
       "      <th>WeatherConditions</th>\n",
       "      <th>RoadConditions</th>\n",
       "      <th>Area</th>\n",
       "    </tr>\n",
       "  </thead>\n",
       "  <tbody>\n",
       "    <tr>\n",
       "      <th>0</th>\n",
       "      <td>201501BS70001</td>\n",
       "      <td>Slight</td>\n",
       "      <td>12/1/2015</td>\n",
       "      <td>Monday</td>\n",
       "      <td>30</td>\n",
       "      <td>Darkness</td>\n",
       "      <td>Fine no high winds</td>\n",
       "      <td>Dry</td>\n",
       "      <td>Urban</td>\n",
       "    </tr>\n",
       "    <tr>\n",
       "      <th>1</th>\n",
       "      <td>201501BS70002</td>\n",
       "      <td>Slight</td>\n",
       "      <td>12/1/2015</td>\n",
       "      <td>Monday</td>\n",
       "      <td>30</td>\n",
       "      <td>Daylight</td>\n",
       "      <td>Fine no high winds</td>\n",
       "      <td>Dry</td>\n",
       "      <td>Urban</td>\n",
       "    </tr>\n",
       "    <tr>\n",
       "      <th>2</th>\n",
       "      <td>201501BS70004</td>\n",
       "      <td>Slight</td>\n",
       "      <td>12/1/2015</td>\n",
       "      <td>Monday</td>\n",
       "      <td>30</td>\n",
       "      <td>Darkness</td>\n",
       "      <td>Raining no high winds</td>\n",
       "      <td>Wet or damp</td>\n",
       "      <td>Urban</td>\n",
       "    </tr>\n",
       "    <tr>\n",
       "      <th>3</th>\n",
       "      <td>201501BS70005</td>\n",
       "      <td>Slight</td>\n",
       "      <td>13/01/2015</td>\n",
       "      <td>Tuesday</td>\n",
       "      <td>30</td>\n",
       "      <td>Daylight</td>\n",
       "      <td>Fine no high winds</td>\n",
       "      <td>Wet or damp</td>\n",
       "      <td>Urban</td>\n",
       "    </tr>\n",
       "    <tr>\n",
       "      <th>4</th>\n",
       "      <td>201501BS70008</td>\n",
       "      <td>Serious</td>\n",
       "      <td>9/1/2015</td>\n",
       "      <td>Friday</td>\n",
       "      <td>30</td>\n",
       "      <td>Daylight</td>\n",
       "      <td>Raining no high winds</td>\n",
       "      <td>Wet or damp</td>\n",
       "      <td>Urban</td>\n",
       "    </tr>\n",
       "    <tr>\n",
       "      <th>...</th>\n",
       "      <td>...</td>\n",
       "      <td>...</td>\n",
       "      <td>...</td>\n",
       "      <td>...</td>\n",
       "      <td>...</td>\n",
       "      <td>...</td>\n",
       "      <td>...</td>\n",
       "      <td>...</td>\n",
       "      <td>...</td>\n",
       "    </tr>\n",
       "    <tr>\n",
       "      <th>80527</th>\n",
       "      <td>201597UD71311</td>\n",
       "      <td>Slight</td>\n",
       "      <td>29/11/2015</td>\n",
       "      <td>Sunday</td>\n",
       "      <td>60</td>\n",
       "      <td>Daylight</td>\n",
       "      <td>Fine + high winds</td>\n",
       "      <td>Wet or damp</td>\n",
       "      <td>Rural</td>\n",
       "    </tr>\n",
       "    <tr>\n",
       "      <th>80528</th>\n",
       "      <td>201597UD71407</td>\n",
       "      <td>Slight</td>\n",
       "      <td>26/07/2015</td>\n",
       "      <td>Sunday</td>\n",
       "      <td>60</td>\n",
       "      <td>Daylight</td>\n",
       "      <td>Raining no high winds</td>\n",
       "      <td>Wet or damp</td>\n",
       "      <td>Rural</td>\n",
       "    </tr>\n",
       "    <tr>\n",
       "      <th>80529</th>\n",
       "      <td>201597UD71412</td>\n",
       "      <td>Slight</td>\n",
       "      <td>31/12/2015</td>\n",
       "      <td>Thursday</td>\n",
       "      <td>60</td>\n",
       "      <td>Darkness</td>\n",
       "      <td>Snowing no high winds</td>\n",
       "      <td>Frost or ice</td>\n",
       "      <td>Rural</td>\n",
       "    </tr>\n",
       "    <tr>\n",
       "      <th>80530</th>\n",
       "      <td>201597UD71607</td>\n",
       "      <td>Slight</td>\n",
       "      <td>28/07/2015</td>\n",
       "      <td>Tuesday</td>\n",
       "      <td>50</td>\n",
       "      <td>Daylight</td>\n",
       "      <td>Fine no high winds</td>\n",
       "      <td>Dry</td>\n",
       "      <td>Urban</td>\n",
       "    </tr>\n",
       "    <tr>\n",
       "      <th>80531</th>\n",
       "      <td>201597UD71807</td>\n",
       "      <td>Slight</td>\n",
       "      <td>15/07/2015</td>\n",
       "      <td>Wednesday</td>\n",
       "      <td>30</td>\n",
       "      <td>Daylight</td>\n",
       "      <td>Fine no high winds</td>\n",
       "      <td>Dry</td>\n",
       "      <td>Urban</td>\n",
       "    </tr>\n",
       "  </tbody>\n",
       "</table>\n",
       "<p>80532 rows × 9 columns</p>\n",
       "</div>"
      ],
      "text/plain": [
       "       AccidentIndex Severity        Date        Day  SpeedLimit   \n",
       "0      201501BS70001   Slight   12/1/2015     Monday          30  \\\n",
       "1      201501BS70002   Slight   12/1/2015     Monday          30   \n",
       "2      201501BS70004   Slight   12/1/2015     Monday          30   \n",
       "3      201501BS70005   Slight  13/01/2015    Tuesday          30   \n",
       "4      201501BS70008  Serious    9/1/2015     Friday          30   \n",
       "...              ...      ...         ...        ...         ...   \n",
       "80527  201597UD71311   Slight  29/11/2015     Sunday          60   \n",
       "80528  201597UD71407   Slight  26/07/2015     Sunday          60   \n",
       "80529  201597UD71412   Slight  31/12/2015   Thursday          60   \n",
       "80530  201597UD71607   Slight  28/07/2015    Tuesday          50   \n",
       "80531  201597UD71807   Slight  15/07/2015  Wednesday          30   \n",
       "\n",
       "      LightConditions      WeatherConditions RoadConditions   Area  \n",
       "0            Darkness     Fine no high winds            Dry  Urban  \n",
       "1            Daylight     Fine no high winds            Dry  Urban  \n",
       "2            Darkness  Raining no high winds    Wet or damp  Urban  \n",
       "3            Daylight     Fine no high winds    Wet or damp  Urban  \n",
       "4            Daylight  Raining no high winds    Wet or damp  Urban  \n",
       "...               ...                    ...            ...    ...  \n",
       "80527        Daylight      Fine + high winds    Wet or damp  Rural  \n",
       "80528        Daylight  Raining no high winds    Wet or damp  Rural  \n",
       "80529        Darkness  Snowing no high winds   Frost or ice  Rural  \n",
       "80530        Daylight     Fine no high winds            Dry  Urban  \n",
       "80531        Daylight     Fine no high winds            Dry  Urban  \n",
       "\n",
       "[80532 rows x 9 columns]"
      ]
     },
     "execution_count": 4,
     "metadata": {},
     "output_type": "execute_result"
    }
   ],
   "source": [
    "df_accident"
   ]
  },
  {
   "cell_type": "code",
   "execution_count": 5,
   "metadata": {},
   "outputs": [
    {
     "data": {
      "text/plain": [
       "Index(['AccidentIndex', 'Severity', 'Date', 'Day', 'SpeedLimit',\n",
       "       'LightConditions', 'WeatherConditions', 'RoadConditions', 'Area'],\n",
       "      dtype='object')"
      ]
     },
     "execution_count": 5,
     "metadata": {},
     "output_type": "execute_result"
    }
   ],
   "source": [
    "df_accident.columns"
   ]
  },
  {
   "cell_type": "code",
   "execution_count": 6,
   "metadata": {},
   "outputs": [],
   "source": [
    "df_accident.rename(columns={'AccidentIndex': 'AccidenteIndex', 'Severity': 'Gravedad', 'Date': 'Fecha', 'Day': 'Dia', 'SpeedLimit': 'LimiteVelocidad',\n",
    "       'LightConditions': 'Condiciones de luz', 'WeatherConditions': 'Condiciones climaticas', 'RoadConditions': 'Condiciones del camino'},inplace= True)"
   ]
  },
  {
   "cell_type": "code",
   "execution_count": 7,
   "metadata": {},
   "outputs": [
    {
     "data": {
      "text/html": [
       "<div>\n",
       "<style scoped>\n",
       "    .dataframe tbody tr th:only-of-type {\n",
       "        vertical-align: middle;\n",
       "    }\n",
       "\n",
       "    .dataframe tbody tr th {\n",
       "        vertical-align: top;\n",
       "    }\n",
       "\n",
       "    .dataframe thead th {\n",
       "        text-align: right;\n",
       "    }\n",
       "</style>\n",
       "<table border=\"1\" class=\"dataframe\">\n",
       "  <thead>\n",
       "    <tr style=\"text-align: right;\">\n",
       "      <th></th>\n",
       "      <th>AccidenteIndex</th>\n",
       "      <th>Gravedad</th>\n",
       "      <th>Fecha</th>\n",
       "      <th>Dia</th>\n",
       "      <th>LimiteVelocidad</th>\n",
       "      <th>Condiciones de luz</th>\n",
       "      <th>Condiciones climaticas</th>\n",
       "      <th>Condiciones del camino</th>\n",
       "      <th>Area</th>\n",
       "    </tr>\n",
       "  </thead>\n",
       "  <tbody>\n",
       "    <tr>\n",
       "      <th>0</th>\n",
       "      <td>201501BS70001</td>\n",
       "      <td>Slight</td>\n",
       "      <td>12/1/2015</td>\n",
       "      <td>Monday</td>\n",
       "      <td>30</td>\n",
       "      <td>Darkness</td>\n",
       "      <td>Fine no high winds</td>\n",
       "      <td>Dry</td>\n",
       "      <td>Urban</td>\n",
       "    </tr>\n",
       "    <tr>\n",
       "      <th>1</th>\n",
       "      <td>201501BS70002</td>\n",
       "      <td>Slight</td>\n",
       "      <td>12/1/2015</td>\n",
       "      <td>Monday</td>\n",
       "      <td>30</td>\n",
       "      <td>Daylight</td>\n",
       "      <td>Fine no high winds</td>\n",
       "      <td>Dry</td>\n",
       "      <td>Urban</td>\n",
       "    </tr>\n",
       "    <tr>\n",
       "      <th>2</th>\n",
       "      <td>201501BS70004</td>\n",
       "      <td>Slight</td>\n",
       "      <td>12/1/2015</td>\n",
       "      <td>Monday</td>\n",
       "      <td>30</td>\n",
       "      <td>Darkness</td>\n",
       "      <td>Raining no high winds</td>\n",
       "      <td>Wet or damp</td>\n",
       "      <td>Urban</td>\n",
       "    </tr>\n",
       "    <tr>\n",
       "      <th>3</th>\n",
       "      <td>201501BS70005</td>\n",
       "      <td>Slight</td>\n",
       "      <td>13/01/2015</td>\n",
       "      <td>Tuesday</td>\n",
       "      <td>30</td>\n",
       "      <td>Daylight</td>\n",
       "      <td>Fine no high winds</td>\n",
       "      <td>Wet or damp</td>\n",
       "      <td>Urban</td>\n",
       "    </tr>\n",
       "    <tr>\n",
       "      <th>4</th>\n",
       "      <td>201501BS70008</td>\n",
       "      <td>Serious</td>\n",
       "      <td>9/1/2015</td>\n",
       "      <td>Friday</td>\n",
       "      <td>30</td>\n",
       "      <td>Daylight</td>\n",
       "      <td>Raining no high winds</td>\n",
       "      <td>Wet or damp</td>\n",
       "      <td>Urban</td>\n",
       "    </tr>\n",
       "    <tr>\n",
       "      <th>...</th>\n",
       "      <td>...</td>\n",
       "      <td>...</td>\n",
       "      <td>...</td>\n",
       "      <td>...</td>\n",
       "      <td>...</td>\n",
       "      <td>...</td>\n",
       "      <td>...</td>\n",
       "      <td>...</td>\n",
       "      <td>...</td>\n",
       "    </tr>\n",
       "    <tr>\n",
       "      <th>80527</th>\n",
       "      <td>201597UD71311</td>\n",
       "      <td>Slight</td>\n",
       "      <td>29/11/2015</td>\n",
       "      <td>Sunday</td>\n",
       "      <td>60</td>\n",
       "      <td>Daylight</td>\n",
       "      <td>Fine + high winds</td>\n",
       "      <td>Wet or damp</td>\n",
       "      <td>Rural</td>\n",
       "    </tr>\n",
       "    <tr>\n",
       "      <th>80528</th>\n",
       "      <td>201597UD71407</td>\n",
       "      <td>Slight</td>\n",
       "      <td>26/07/2015</td>\n",
       "      <td>Sunday</td>\n",
       "      <td>60</td>\n",
       "      <td>Daylight</td>\n",
       "      <td>Raining no high winds</td>\n",
       "      <td>Wet or damp</td>\n",
       "      <td>Rural</td>\n",
       "    </tr>\n",
       "    <tr>\n",
       "      <th>80529</th>\n",
       "      <td>201597UD71412</td>\n",
       "      <td>Slight</td>\n",
       "      <td>31/12/2015</td>\n",
       "      <td>Thursday</td>\n",
       "      <td>60</td>\n",
       "      <td>Darkness</td>\n",
       "      <td>Snowing no high winds</td>\n",
       "      <td>Frost or ice</td>\n",
       "      <td>Rural</td>\n",
       "    </tr>\n",
       "    <tr>\n",
       "      <th>80530</th>\n",
       "      <td>201597UD71607</td>\n",
       "      <td>Slight</td>\n",
       "      <td>28/07/2015</td>\n",
       "      <td>Tuesday</td>\n",
       "      <td>50</td>\n",
       "      <td>Daylight</td>\n",
       "      <td>Fine no high winds</td>\n",
       "      <td>Dry</td>\n",
       "      <td>Urban</td>\n",
       "    </tr>\n",
       "    <tr>\n",
       "      <th>80531</th>\n",
       "      <td>201597UD71807</td>\n",
       "      <td>Slight</td>\n",
       "      <td>15/07/2015</td>\n",
       "      <td>Wednesday</td>\n",
       "      <td>30</td>\n",
       "      <td>Daylight</td>\n",
       "      <td>Fine no high winds</td>\n",
       "      <td>Dry</td>\n",
       "      <td>Urban</td>\n",
       "    </tr>\n",
       "  </tbody>\n",
       "</table>\n",
       "<p>80532 rows × 9 columns</p>\n",
       "</div>"
      ],
      "text/plain": [
       "      AccidenteIndex Gravedad       Fecha        Dia  LimiteVelocidad   \n",
       "0      201501BS70001   Slight   12/1/2015     Monday               30  \\\n",
       "1      201501BS70002   Slight   12/1/2015     Monday               30   \n",
       "2      201501BS70004   Slight   12/1/2015     Monday               30   \n",
       "3      201501BS70005   Slight  13/01/2015    Tuesday               30   \n",
       "4      201501BS70008  Serious    9/1/2015     Friday               30   \n",
       "...              ...      ...         ...        ...              ...   \n",
       "80527  201597UD71311   Slight  29/11/2015     Sunday               60   \n",
       "80528  201597UD71407   Slight  26/07/2015     Sunday               60   \n",
       "80529  201597UD71412   Slight  31/12/2015   Thursday               60   \n",
       "80530  201597UD71607   Slight  28/07/2015    Tuesday               50   \n",
       "80531  201597UD71807   Slight  15/07/2015  Wednesday               30   \n",
       "\n",
       "      Condiciones de luz Condiciones climaticas Condiciones del camino   Area  \n",
       "0               Darkness     Fine no high winds                    Dry  Urban  \n",
       "1               Daylight     Fine no high winds                    Dry  Urban  \n",
       "2               Darkness  Raining no high winds            Wet or damp  Urban  \n",
       "3               Daylight     Fine no high winds            Wet or damp  Urban  \n",
       "4               Daylight  Raining no high winds            Wet or damp  Urban  \n",
       "...                  ...                    ...                    ...    ...  \n",
       "80527           Daylight      Fine + high winds            Wet or damp  Rural  \n",
       "80528           Daylight  Raining no high winds            Wet or damp  Rural  \n",
       "80529           Darkness  Snowing no high winds           Frost or ice  Rural  \n",
       "80530           Daylight     Fine no high winds                    Dry  Urban  \n",
       "80531           Daylight     Fine no high winds                    Dry  Urban  \n",
       "\n",
       "[80532 rows x 9 columns]"
      ]
     },
     "execution_count": 7,
     "metadata": {},
     "output_type": "execute_result"
    }
   ],
   "source": [
    "df_accident"
   ]
  },
  {
   "cell_type": "code",
   "execution_count": 8,
   "metadata": {},
   "outputs": [
    {
     "data": {
      "text/plain": [
       "array(['Slight', 'Serious', 'Fatal'], dtype=object)"
      ]
     },
     "execution_count": 8,
     "metadata": {},
     "output_type": "execute_result"
    }
   ],
   "source": [
    "df_accident['Gravedad'].unique()"
   ]
  },
  {
   "cell_type": "code",
   "execution_count": 9,
   "metadata": {},
   "outputs": [],
   "source": [
    "reemplazos = {'Slight': 'Leve', 'Serious': 'Serio', 'Fatal': 'Fatal'}"
   ]
  },
  {
   "cell_type": "code",
   "execution_count": 10,
   "metadata": {},
   "outputs": [],
   "source": [
    "df_accident['Gravedad'] = df_accident['Gravedad'].replace(reemplazos)"
   ]
  },
  {
   "cell_type": "code",
   "execution_count": 11,
   "metadata": {},
   "outputs": [
    {
     "data": {
      "text/plain": [
       "array(['Leve', 'Serio', 'Fatal'], dtype=object)"
      ]
     },
     "execution_count": 11,
     "metadata": {},
     "output_type": "execute_result"
    }
   ],
   "source": [
    "df_accident['Gravedad'].unique()"
   ]
  },
  {
   "cell_type": "code",
   "execution_count": 12,
   "metadata": {},
   "outputs": [
    {
     "data": {
      "text/plain": [
       "array(['Monday', 'Tuesday', 'Friday', 'Thursday', 'Sunday', 'Wednesday',\n",
       "       'Saturday'], dtype=object)"
      ]
     },
     "execution_count": 12,
     "metadata": {},
     "output_type": "execute_result"
    }
   ],
   "source": [
    "df_accident['Dia'].unique()"
   ]
  },
  {
   "cell_type": "code",
   "execution_count": 13,
   "metadata": {},
   "outputs": [],
   "source": [
    "reemplazos2 = {'Monday': 'Lunes', 'Tuesday': 'Martes', 'Friday': 'Viernes', 'Thursday': 'Jueves', 'Sunday': 'Domingo', 'Wednesday': 'Miercoles',\n",
    "       'Saturday': 'Sabado'}"
   ]
  },
  {
   "cell_type": "code",
   "execution_count": 14,
   "metadata": {},
   "outputs": [],
   "source": [
    "df_accident['Dia'] = df_accident['Dia'].replace(reemplazos2)"
   ]
  },
  {
   "cell_type": "code",
   "execution_count": 15,
   "metadata": {},
   "outputs": [
    {
     "data": {
      "text/plain": [
       "array(['Lunes', 'Martes', 'Viernes', 'Jueves', 'Domingo', 'Miercoles',\n",
       "       'Sabado'], dtype=object)"
      ]
     },
     "execution_count": 15,
     "metadata": {},
     "output_type": "execute_result"
    }
   ],
   "source": [
    "df_accident['Dia'].unique()"
   ]
  },
  {
   "cell_type": "code",
   "execution_count": 16,
   "metadata": {},
   "outputs": [
    {
     "data": {
      "text/plain": [
       "array(['Darkness', 'Daylight'], dtype=object)"
      ]
     },
     "execution_count": 16,
     "metadata": {},
     "output_type": "execute_result"
    }
   ],
   "source": [
    "df_accident['Condiciones de luz'].unique()"
   ]
  },
  {
   "cell_type": "code",
   "execution_count": 17,
   "metadata": {},
   "outputs": [],
   "source": [
    "reemplazos3 = {'Darkness': 'Oscuridad', 'Daylight': 'Luz'}"
   ]
  },
  {
   "cell_type": "code",
   "execution_count": 18,
   "metadata": {},
   "outputs": [],
   "source": [
    "df_accident['Condiciones de luz'] = df_accident['Condiciones de luz'].replace(reemplazos3)"
   ]
  },
  {
   "cell_type": "code",
   "execution_count": 19,
   "metadata": {},
   "outputs": [
    {
     "data": {
      "text/plain": [
       "array(['Oscuridad', 'Luz'], dtype=object)"
      ]
     },
     "execution_count": 19,
     "metadata": {},
     "output_type": "execute_result"
    }
   ],
   "source": [
    "df_accident['Condiciones de luz'].unique()"
   ]
  },
  {
   "cell_type": "code",
   "execution_count": 20,
   "metadata": {},
   "outputs": [
    {
     "data": {
      "text/plain": [
       "array(['Fine no high winds', 'Raining no high winds', 'Other',\n",
       "       'Fog or mist', 'Raining + high winds', 'Unknown',\n",
       "       'Fine + high winds', 'Snowing + high winds',\n",
       "       'Snowing no high winds'], dtype=object)"
      ]
     },
     "execution_count": 20,
     "metadata": {},
     "output_type": "execute_result"
    }
   ],
   "source": [
    "df_accident['Condiciones climaticas'].unique()"
   ]
  },
  {
   "cell_type": "code",
   "execution_count": 21,
   "metadata": {},
   "outputs": [],
   "source": [
    "reemplazos4 = {'Fine no high winds': 'Bien sin vientos fuertes' , 'Raining no high winds': 'Lloviendo sin vientos fuertes', 'Other': 'Otro',\n",
    "       'Fog or mist': 'Niebla o neblina' , 'Raining + high winds': 'Lluvia + vientos fuertes', 'Unknown': 'Desconocido',\n",
    "       'Fine + high winds': 'Bien + vientos fuertes', 'Snowing + high winds': 'Nevando + vientos  fuertos',\n",
    "       'Snowing no high winds': 'Nevando sin vientos fuertes'}"
   ]
  },
  {
   "cell_type": "code",
   "execution_count": 22,
   "metadata": {},
   "outputs": [],
   "source": [
    "df_accident['Condiciones climaticas'] = df_accident['Condiciones climaticas'].replace(reemplazos4)"
   ]
  },
  {
   "cell_type": "code",
   "execution_count": 23,
   "metadata": {},
   "outputs": [
    {
     "data": {
      "text/plain": [
       "array(['Bien sin vientos fuertes', 'Lloviendo sin vientos fuertes',\n",
       "       'Otro', 'Niebla o neblina', 'Lluvia + vientos fuertes',\n",
       "       'Desconocido', 'Bien + vientos fuertes',\n",
       "       'Nevando + vientos  fuertos', 'Nevando sin vientos fuertes'],\n",
       "      dtype=object)"
      ]
     },
     "execution_count": 23,
     "metadata": {},
     "output_type": "execute_result"
    }
   ],
   "source": [
    "df_accident['Condiciones climaticas'].unique()"
   ]
  },
  {
   "cell_type": "code",
   "execution_count": 24,
   "metadata": {},
   "outputs": [
    {
     "data": {
      "text/plain": [
       "array(['Dry', 'Wet or damp', 'Frost or ice', 'Snow', 'Flood ', 'Mud'],\n",
       "      dtype=object)"
      ]
     },
     "execution_count": 24,
     "metadata": {},
     "output_type": "execute_result"
    }
   ],
   "source": [
    "df_accident['Condiciones del camino'].unique()"
   ]
  },
  {
   "cell_type": "code",
   "execution_count": 25,
   "metadata": {},
   "outputs": [],
   "source": [
    "reemplazos5 = {'Dry': 'Seco', 'Wet or damp': 'Mojado o humedo', 'Frost or ice': 'Escarchado o congelado', 'Snow': 'Nieve', 'Flood ': 'Inundacion', 'Mud': 'Barro'}"
   ]
  },
  {
   "cell_type": "code",
   "execution_count": 26,
   "metadata": {},
   "outputs": [],
   "source": [
    "df_accident['Condiciones del camino'] = df_accident['Condiciones del camino'].replace(reemplazos5)"
   ]
  },
  {
   "cell_type": "code",
   "execution_count": 27,
   "metadata": {},
   "outputs": [
    {
     "data": {
      "text/plain": [
       "array(['Seco', 'Mojado o humedo', 'Escarchado o congelado', 'Nieve',\n",
       "       'Inundacion', 'Barro'], dtype=object)"
      ]
     },
     "execution_count": 27,
     "metadata": {},
     "output_type": "execute_result"
    }
   ],
   "source": [
    "df_accident['Condiciones del camino'].unique()"
   ]
  },
  {
   "cell_type": "code",
   "execution_count": 28,
   "metadata": {},
   "outputs": [
    {
     "data": {
      "text/plain": [
       "array(['Urban', 'Rural'], dtype=object)"
      ]
     },
     "execution_count": 28,
     "metadata": {},
     "output_type": "execute_result"
    }
   ],
   "source": [
    "df_accident['Area'].unique()"
   ]
  },
  {
   "cell_type": "code",
   "execution_count": 29,
   "metadata": {},
   "outputs": [],
   "source": [
    "df_accident['Area'] = df_accident['Area'].replace('Urban','Urbano')"
   ]
  },
  {
   "cell_type": "code",
   "execution_count": 30,
   "metadata": {},
   "outputs": [
    {
     "data": {
      "text/plain": [
       "array(['Urbano', 'Rural'], dtype=object)"
      ]
     },
     "execution_count": 30,
     "metadata": {},
     "output_type": "execute_result"
    }
   ],
   "source": [
    "df_accident['Area'].unique()"
   ]
  },
  {
   "cell_type": "code",
   "execution_count": 31,
   "metadata": {},
   "outputs": [],
   "source": [
    "df_accident.to_csv('../español/accidente.csv', index = False)"
   ]
  }
 ],
 "metadata": {
  "kernelspec": {
   "display_name": "Python 3",
   "language": "python",
   "name": "python3"
  },
  "language_info": {
   "codemirror_mode": {
    "name": "ipython",
    "version": 3
   },
   "file_extension": ".py",
   "mimetype": "text/x-python",
   "name": "python",
   "nbconvert_exporter": "python",
   "pygments_lexer": "ipython3",
   "version": "3.11.3"
  },
  "orig_nbformat": 4
 },
 "nbformat": 4,
 "nbformat_minor": 2
}
